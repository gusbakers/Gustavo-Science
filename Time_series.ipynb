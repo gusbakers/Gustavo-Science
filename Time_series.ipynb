{
  "nbformat": 4,
  "nbformat_minor": 0,
  "metadata": {
    "colab": {
      "provenance": []
    },
    "kernelspec": {
      "name": "python3",
      "display_name": "Python 3"
    },
    "language_info": {
      "name": "python"
    }
  },
  "cells": [
    {
      "cell_type": "markdown",
      "source": [
        "**PRE-PROCESING THE DATA.**"
      ],
      "metadata": {
        "id": "xWaW07rjfe7m"
      }
    },
    {
      "cell_type": "code",
      "source": [
        "import pandas as pd\n",
        "from sklearn.model_selection import TimeSeriesSplit\n",
        "from sklearn.model_selection import cross_val_score\n",
        "from sklearn.ensemble import RandomForestRegressor, GradientBoostingRegressor\n",
        "import matplotlib.pyplot as plt\n",
        "import seaborn as sns\n"
      ],
      "metadata": {
        "id": "Hse9knlpffrr"
      },
      "execution_count": null,
      "outputs": []
    },
    {
      "cell_type": "code",
      "source": [
        "df = pd.read_csv('data_assignment2.csv')\n"
      ],
      "metadata": {
        "id": "LLTwlh9sfyoS"
      },
      "execution_count": null,
      "outputs": []
    },
    {
      "cell_type": "code",
      "source": [
        "\n",
        "print(df.head())\n",
        "print(df.info())\n",
        "\n",
        "print(df.describe())\n"
      ],
      "metadata": {
        "colab": {
          "base_uri": "https://localhost:8080/"
        },
        "id": "pS2SqrQ7iLs6",
        "outputId": "15802a22-60cd-42a7-bb3c-1f9014457a94"
      },
      "execution_count": null,
      "outputs": [
        {
          "output_type": "stream",
          "name": "stdout",
          "text": [
            "   Unnamed: 0    Country FoodItem UnitofMeasurement  AveragePrice Currency  \\\n",
            "0           0  Australia    Bread              Loaf          2.20      AUD   \n",
            "1           1  Australia    Bread              Loaf          2.20      AUD   \n",
            "2           2  Australia    Bread              Loaf          2.20      AUD   \n",
            "3           3  Australia    Bread              Loaf          2.21      AUD   \n",
            "4           4  Australia    Bread              Loaf          2.21      AUD   \n",
            "\n",
            "   PriceinUSD  Availability Quality Year_Month  \n",
            "0        1.47             1    High     2018-1  \n",
            "1        1.48             1    High     2018-2  \n",
            "2        1.48             1    High     2018-3  \n",
            "3        1.48             1    High     2018-4  \n",
            "4        1.48             1    High     2018-5  \n",
            "<class 'pandas.core.frame.DataFrame'>\n",
            "RangeIndex: 1200 entries, 0 to 1199\n",
            "Data columns (total 10 columns):\n",
            " #   Column             Non-Null Count  Dtype  \n",
            "---  ------             --------------  -----  \n",
            " 0   Unnamed: 0         1200 non-null   int64  \n",
            " 1   Country            1200 non-null   object \n",
            " 2   FoodItem           1200 non-null   object \n",
            " 3   UnitofMeasurement  1200 non-null   object \n",
            " 4   AveragePrice       1200 non-null   float64\n",
            " 5   Currency           1200 non-null   object \n",
            " 6   PriceinUSD         1200 non-null   float64\n",
            " 7   Availability       1200 non-null   int64  \n",
            " 8   Quality            1200 non-null   object \n",
            " 9   Year_Month         1200 non-null   object \n",
            "dtypes: float64(2), int64(2), object(6)\n",
            "memory usage: 93.9+ KB\n",
            "None\n",
            "        Unnamed: 0  AveragePrice   PriceinUSD  Availability\n",
            "count  1200.000000   1200.000000  1200.000000        1200.0\n",
            "mean    599.500000     59.129550     1.801842           1.0\n",
            "std     346.554469    103.155832     0.725390           0.0\n",
            "min       0.000000      1.220000     0.690000           1.0\n",
            "25%     299.750000      3.207500     1.170000           1.0\n",
            "50%     599.500000     13.355000     1.680000           1.0\n",
            "75%     899.250000     28.882500     2.320000           1.0\n",
            "max    1199.000000    421.430000     4.030000           1.0\n"
          ]
        }
      ]
    },
    {
      "cell_type": "code",
      "source": [
        "df['Month'] = df['Year_Month'].str.split('-').str[1]\n"
      ],
      "metadata": {
        "id": "tRNUnQPtijLn"
      },
      "execution_count": null,
      "outputs": []
    },
    {
      "cell_type": "code",
      "source": [
        "df['Month'] = pd.to_numeric(df['Month'])"
      ],
      "metadata": {
        "id": "IxBlfkE9jQRM"
      },
      "execution_count": null,
      "outputs": []
    },
    {
      "cell_type": "code",
      "source": [
        "X = df[['Country', 'FoodItem', 'UnitofMeasurement', 'Currency', 'Availability', 'Quality', 'Month']]\n",
        "y = df['PriceinUSD']\n"
      ],
      "metadata": {
        "id": "he2-InMIkRny"
      },
      "execution_count": null,
      "outputs": []
    },
    {
      "cell_type": "code",
      "source": [
        "tscv = TimeSeriesSplit(n_splits=5)\n"
      ],
      "metadata": {
        "id": "XSmL0spfmNtX"
      },
      "execution_count": null,
      "outputs": []
    },
    {
      "cell_type": "code",
      "source": [
        "models = [RandomForestRegressor(), GradientBoostingRegressor()]"
      ],
      "metadata": {
        "id": "jDZrVj-5ms65"
      },
      "execution_count": null,
      "outputs": []
    },
    {
      "cell_type": "code",
      "source": [
        "from sklearn.metrics import mean_squared_error\n"
      ],
      "metadata": {
        "id": "GGpeEhVmmvMQ"
      },
      "execution_count": null,
      "outputs": []
    },
    {
      "cell_type": "code",
      "source": [
        "from sklearn.model_selection import TimeSeriesSplit\n",
        "from sklearn.ensemble import RandomForestRegressor, GradientBoostingRegressor\n",
        "from sklearn.metrics import mean_squared_error\n",
        "import pandas as pd\n",
        "\n",
        "#  one-hot encoding\n",
        "X_encoded = pd.get_dummies(X, columns=['Country', 'FoodItem', 'UnitofMeasurement', 'Currency', 'Availability', 'Quality', 'Month'])\n",
        "\n",
        "# cross validation\n",
        "models = [RandomForestRegressor(), GradientBoostingRegressor()]\n",
        "\n",
        "#\n",
        "all_scores = []\n",
        "\n",
        "# Iteration\n",
        "for model in models:\n",
        "\n",
        "    model_scores = []\n",
        "\n",
        "    for fold, (train_index, test_index) in enumerate(tscv.split(X_encoded)):\n",
        "        X_train, X_test = X_encoded.iloc[train_index], X_encoded.iloc[test_index]\n",
        "        y_train, y_test = y.iloc[train_index], y.iloc[test_index]\n",
        "\n",
        "        model.fit(X_train, y_train)\n",
        "        y_pred = model.predict(X_test)\n",
        "\n",
        "        mse = mean_squared_error(y_test, y_pred)\n",
        "        model_scores.append(mse)\n",
        "\n",
        "        # mse results\n",
        "        print(f\"Model: {str(model).split('(')[0]}, Fold: {fold}, MSE: {mse}\")\n",
        "\n",
        "\n",
        "    all_scores.append({'Model': str(model).split('(')[0], 'Scores': model_scores})\n"
      ],
      "metadata": {
        "colab": {
          "base_uri": "https://localhost:8080/"
        },
        "id": "heRGc1U_nRBR",
        "outputId": "28f62a71-1b50-4ce8-8bb0-6453d9a7dda4"
      },
      "execution_count": null,
      "outputs": [
        {
          "output_type": "stream",
          "name": "stdout",
          "text": [
            "Model: RandomForestRegressor, Fold: 0, MSE: 0.11397129031979197\n",
            "Model: RandomForestRegressor, Fold: 1, MSE: 0.6106093274718506\n",
            "Model: RandomForestRegressor, Fold: 2, MSE: 1.4094476981864552\n",
            "Model: RandomForestRegressor, Fold: 3, MSE: 0.8061538741134419\n",
            "Model: RandomForestRegressor, Fold: 4, MSE: 0.07993017556321011\n",
            "Model: GradientBoostingRegressor, Fold: 0, MSE: 0.11305276313970325\n",
            "Model: GradientBoostingRegressor, Fold: 1, MSE: 0.63133289937454\n",
            "Model: GradientBoostingRegressor, Fold: 2, MSE: 1.0386336312116269\n",
            "Model: GradientBoostingRegressor, Fold: 3, MSE: 0.11543493969399816\n",
            "Model: GradientBoostingRegressor, Fold: 4, MSE: 0.07013912958485703\n"
          ]
        }
      ]
    },
    {
      "cell_type": "code",
      "source": [
        "import plotly.graph_objects as go\n",
        "\n",
        "# Create a dataframe\n",
        "scores_df = pd.DataFrame()\n",
        "for model_scores in all_scores:\n",
        "    scores_df = pd.concat([scores_df, pd.DataFrame(model_scores)], ignore_index=True)\n",
        "\n",
        "# plot\n",
        "fig = go.Figure()\n",
        "\n",
        "for model, group in scores_df.groupby('Model'):\n",
        "    fig.add_trace(go.Scatter(x=group.index, y=group['Scores'], mode='lines+markers', name=model))\n",
        "\n",
        "# Design of the plot\n",
        "fig.update_layout(title='Mean Squared Error Across Folds for Different Models',\n",
        "                  xaxis_title='Fold Number', yaxis_title='Mean Squared Error')\n",
        "\n",
        "# show plot\n",
        "fig.show()\n"
      ],
      "metadata": {
        "colab": {
          "base_uri": "https://localhost:8080/",
          "height": 542
        },
        "id": "mCMTSKrHrTkl",
        "outputId": "5f6e7243-d5e7-476f-8b20-ebbd5b1d2c8f"
      },
      "execution_count": null,
      "outputs": [
        {
          "output_type": "display_data",
          "data": {
            "text/html": [
              "<html>\n",
              "<head><meta charset=\"utf-8\" /></head>\n",
              "<body>\n",
              "    <div>            <script src=\"https://cdnjs.cloudflare.com/ajax/libs/mathjax/2.7.5/MathJax.js?config=TeX-AMS-MML_SVG\"></script><script type=\"text/javascript\">if (window.MathJax && window.MathJax.Hub && window.MathJax.Hub.Config) {window.MathJax.Hub.Config({SVG: {font: \"STIX-Web\"}});}</script>                <script type=\"text/javascript\">window.PlotlyConfig = {MathJaxConfig: 'local'};</script>\n",
              "        <script charset=\"utf-8\" src=\"https://cdn.plot.ly/plotly-2.24.1.min.js\"></script>                <div id=\"d44a4bf9-f4f2-4d7f-9eb5-e62e194fb2b2\" class=\"plotly-graph-div\" style=\"height:525px; width:100%;\"></div>            <script type=\"text/javascript\">                                    window.PLOTLYENV=window.PLOTLYENV || {};                                    if (document.getElementById(\"d44a4bf9-f4f2-4d7f-9eb5-e62e194fb2b2\")) {                    Plotly.newPlot(                        \"d44a4bf9-f4f2-4d7f-9eb5-e62e194fb2b2\",                        [{\"mode\":\"lines+markers\",\"name\":\"GradientBoostingRegressor\",\"x\":[5,6,7,8,9],\"y\":[0.11305276313970325,0.63133289937454,1.0386336312116269,0.11543493969399816,0.07013912958485703],\"type\":\"scatter\"},{\"mode\":\"lines+markers\",\"name\":\"RandomForestRegressor\",\"x\":[0,1,2,3,4],\"y\":[0.11397129031979197,0.6106093274718506,1.4094476981864552,0.8061538741134419,0.07993017556321011],\"type\":\"scatter\"}],                        {\"template\":{\"data\":{\"histogram2dcontour\":[{\"type\":\"histogram2dcontour\",\"colorbar\":{\"outlinewidth\":0,\"ticks\":\"\"},\"colorscale\":[[0.0,\"#0d0887\"],[0.1111111111111111,\"#46039f\"],[0.2222222222222222,\"#7201a8\"],[0.3333333333333333,\"#9c179e\"],[0.4444444444444444,\"#bd3786\"],[0.5555555555555556,\"#d8576b\"],[0.6666666666666666,\"#ed7953\"],[0.7777777777777778,\"#fb9f3a\"],[0.8888888888888888,\"#fdca26\"],[1.0,\"#f0f921\"]]}],\"choropleth\":[{\"type\":\"choropleth\",\"colorbar\":{\"outlinewidth\":0,\"ticks\":\"\"}}],\"histogram2d\":[{\"type\":\"histogram2d\",\"colorbar\":{\"outlinewidth\":0,\"ticks\":\"\"},\"colorscale\":[[0.0,\"#0d0887\"],[0.1111111111111111,\"#46039f\"],[0.2222222222222222,\"#7201a8\"],[0.3333333333333333,\"#9c179e\"],[0.4444444444444444,\"#bd3786\"],[0.5555555555555556,\"#d8576b\"],[0.6666666666666666,\"#ed7953\"],[0.7777777777777778,\"#fb9f3a\"],[0.8888888888888888,\"#fdca26\"],[1.0,\"#f0f921\"]]}],\"heatmap\":[{\"type\":\"heatmap\",\"colorbar\":{\"outlinewidth\":0,\"ticks\":\"\"},\"colorscale\":[[0.0,\"#0d0887\"],[0.1111111111111111,\"#46039f\"],[0.2222222222222222,\"#7201a8\"],[0.3333333333333333,\"#9c179e\"],[0.4444444444444444,\"#bd3786\"],[0.5555555555555556,\"#d8576b\"],[0.6666666666666666,\"#ed7953\"],[0.7777777777777778,\"#fb9f3a\"],[0.8888888888888888,\"#fdca26\"],[1.0,\"#f0f921\"]]}],\"heatmapgl\":[{\"type\":\"heatmapgl\",\"colorbar\":{\"outlinewidth\":0,\"ticks\":\"\"},\"colorscale\":[[0.0,\"#0d0887\"],[0.1111111111111111,\"#46039f\"],[0.2222222222222222,\"#7201a8\"],[0.3333333333333333,\"#9c179e\"],[0.4444444444444444,\"#bd3786\"],[0.5555555555555556,\"#d8576b\"],[0.6666666666666666,\"#ed7953\"],[0.7777777777777778,\"#fb9f3a\"],[0.8888888888888888,\"#fdca26\"],[1.0,\"#f0f921\"]]}],\"contourcarpet\":[{\"type\":\"contourcarpet\",\"colorbar\":{\"outlinewidth\":0,\"ticks\":\"\"}}],\"contour\":[{\"type\":\"contour\",\"colorbar\":{\"outlinewidth\":0,\"ticks\":\"\"},\"colorscale\":[[0.0,\"#0d0887\"],[0.1111111111111111,\"#46039f\"],[0.2222222222222222,\"#7201a8\"],[0.3333333333333333,\"#9c179e\"],[0.4444444444444444,\"#bd3786\"],[0.5555555555555556,\"#d8576b\"],[0.6666666666666666,\"#ed7953\"],[0.7777777777777778,\"#fb9f3a\"],[0.8888888888888888,\"#fdca26\"],[1.0,\"#f0f921\"]]}],\"surface\":[{\"type\":\"surface\",\"colorbar\":{\"outlinewidth\":0,\"ticks\":\"\"},\"colorscale\":[[0.0,\"#0d0887\"],[0.1111111111111111,\"#46039f\"],[0.2222222222222222,\"#7201a8\"],[0.3333333333333333,\"#9c179e\"],[0.4444444444444444,\"#bd3786\"],[0.5555555555555556,\"#d8576b\"],[0.6666666666666666,\"#ed7953\"],[0.7777777777777778,\"#fb9f3a\"],[0.8888888888888888,\"#fdca26\"],[1.0,\"#f0f921\"]]}],\"mesh3d\":[{\"type\":\"mesh3d\",\"colorbar\":{\"outlinewidth\":0,\"ticks\":\"\"}}],\"scatter\":[{\"fillpattern\":{\"fillmode\":\"overlay\",\"size\":10,\"solidity\":0.2},\"type\":\"scatter\"}],\"parcoords\":[{\"type\":\"parcoords\",\"line\":{\"colorbar\":{\"outlinewidth\":0,\"ticks\":\"\"}}}],\"scatterpolargl\":[{\"type\":\"scatterpolargl\",\"marker\":{\"colorbar\":{\"outlinewidth\":0,\"ticks\":\"\"}}}],\"bar\":[{\"error_x\":{\"color\":\"#2a3f5f\"},\"error_y\":{\"color\":\"#2a3f5f\"},\"marker\":{\"line\":{\"color\":\"#E5ECF6\",\"width\":0.5},\"pattern\":{\"fillmode\":\"overlay\",\"size\":10,\"solidity\":0.2}},\"type\":\"bar\"}],\"scattergeo\":[{\"type\":\"scattergeo\",\"marker\":{\"colorbar\":{\"outlinewidth\":0,\"ticks\":\"\"}}}],\"scatterpolar\":[{\"type\":\"scatterpolar\",\"marker\":{\"colorbar\":{\"outlinewidth\":0,\"ticks\":\"\"}}}],\"histogram\":[{\"marker\":{\"pattern\":{\"fillmode\":\"overlay\",\"size\":10,\"solidity\":0.2}},\"type\":\"histogram\"}],\"scattergl\":[{\"type\":\"scattergl\",\"marker\":{\"colorbar\":{\"outlinewidth\":0,\"ticks\":\"\"}}}],\"scatter3d\":[{\"type\":\"scatter3d\",\"line\":{\"colorbar\":{\"outlinewidth\":0,\"ticks\":\"\"}},\"marker\":{\"colorbar\":{\"outlinewidth\":0,\"ticks\":\"\"}}}],\"scattermapbox\":[{\"type\":\"scattermapbox\",\"marker\":{\"colorbar\":{\"outlinewidth\":0,\"ticks\":\"\"}}}],\"scatterternary\":[{\"type\":\"scatterternary\",\"marker\":{\"colorbar\":{\"outlinewidth\":0,\"ticks\":\"\"}}}],\"scattercarpet\":[{\"type\":\"scattercarpet\",\"marker\":{\"colorbar\":{\"outlinewidth\":0,\"ticks\":\"\"}}}],\"carpet\":[{\"aaxis\":{\"endlinecolor\":\"#2a3f5f\",\"gridcolor\":\"white\",\"linecolor\":\"white\",\"minorgridcolor\":\"white\",\"startlinecolor\":\"#2a3f5f\"},\"baxis\":{\"endlinecolor\":\"#2a3f5f\",\"gridcolor\":\"white\",\"linecolor\":\"white\",\"minorgridcolor\":\"white\",\"startlinecolor\":\"#2a3f5f\"},\"type\":\"carpet\"}],\"table\":[{\"cells\":{\"fill\":{\"color\":\"#EBF0F8\"},\"line\":{\"color\":\"white\"}},\"header\":{\"fill\":{\"color\":\"#C8D4E3\"},\"line\":{\"color\":\"white\"}},\"type\":\"table\"}],\"barpolar\":[{\"marker\":{\"line\":{\"color\":\"#E5ECF6\",\"width\":0.5},\"pattern\":{\"fillmode\":\"overlay\",\"size\":10,\"solidity\":0.2}},\"type\":\"barpolar\"}],\"pie\":[{\"automargin\":true,\"type\":\"pie\"}]},\"layout\":{\"autotypenumbers\":\"strict\",\"colorway\":[\"#636efa\",\"#EF553B\",\"#00cc96\",\"#ab63fa\",\"#FFA15A\",\"#19d3f3\",\"#FF6692\",\"#B6E880\",\"#FF97FF\",\"#FECB52\"],\"font\":{\"color\":\"#2a3f5f\"},\"hovermode\":\"closest\",\"hoverlabel\":{\"align\":\"left\"},\"paper_bgcolor\":\"white\",\"plot_bgcolor\":\"#E5ECF6\",\"polar\":{\"bgcolor\":\"#E5ECF6\",\"angularaxis\":{\"gridcolor\":\"white\",\"linecolor\":\"white\",\"ticks\":\"\"},\"radialaxis\":{\"gridcolor\":\"white\",\"linecolor\":\"white\",\"ticks\":\"\"}},\"ternary\":{\"bgcolor\":\"#E5ECF6\",\"aaxis\":{\"gridcolor\":\"white\",\"linecolor\":\"white\",\"ticks\":\"\"},\"baxis\":{\"gridcolor\":\"white\",\"linecolor\":\"white\",\"ticks\":\"\"},\"caxis\":{\"gridcolor\":\"white\",\"linecolor\":\"white\",\"ticks\":\"\"}},\"coloraxis\":{\"colorbar\":{\"outlinewidth\":0,\"ticks\":\"\"}},\"colorscale\":{\"sequential\":[[0.0,\"#0d0887\"],[0.1111111111111111,\"#46039f\"],[0.2222222222222222,\"#7201a8\"],[0.3333333333333333,\"#9c179e\"],[0.4444444444444444,\"#bd3786\"],[0.5555555555555556,\"#d8576b\"],[0.6666666666666666,\"#ed7953\"],[0.7777777777777778,\"#fb9f3a\"],[0.8888888888888888,\"#fdca26\"],[1.0,\"#f0f921\"]],\"sequentialminus\":[[0.0,\"#0d0887\"],[0.1111111111111111,\"#46039f\"],[0.2222222222222222,\"#7201a8\"],[0.3333333333333333,\"#9c179e\"],[0.4444444444444444,\"#bd3786\"],[0.5555555555555556,\"#d8576b\"],[0.6666666666666666,\"#ed7953\"],[0.7777777777777778,\"#fb9f3a\"],[0.8888888888888888,\"#fdca26\"],[1.0,\"#f0f921\"]],\"diverging\":[[0,\"#8e0152\"],[0.1,\"#c51b7d\"],[0.2,\"#de77ae\"],[0.3,\"#f1b6da\"],[0.4,\"#fde0ef\"],[0.5,\"#f7f7f7\"],[0.6,\"#e6f5d0\"],[0.7,\"#b8e186\"],[0.8,\"#7fbc41\"],[0.9,\"#4d9221\"],[1,\"#276419\"]]},\"xaxis\":{\"gridcolor\":\"white\",\"linecolor\":\"white\",\"ticks\":\"\",\"title\":{\"standoff\":15},\"zerolinecolor\":\"white\",\"automargin\":true,\"zerolinewidth\":2},\"yaxis\":{\"gridcolor\":\"white\",\"linecolor\":\"white\",\"ticks\":\"\",\"title\":{\"standoff\":15},\"zerolinecolor\":\"white\",\"automargin\":true,\"zerolinewidth\":2},\"scene\":{\"xaxis\":{\"backgroundcolor\":\"#E5ECF6\",\"gridcolor\":\"white\",\"linecolor\":\"white\",\"showbackground\":true,\"ticks\":\"\",\"zerolinecolor\":\"white\",\"gridwidth\":2},\"yaxis\":{\"backgroundcolor\":\"#E5ECF6\",\"gridcolor\":\"white\",\"linecolor\":\"white\",\"showbackground\":true,\"ticks\":\"\",\"zerolinecolor\":\"white\",\"gridwidth\":2},\"zaxis\":{\"backgroundcolor\":\"#E5ECF6\",\"gridcolor\":\"white\",\"linecolor\":\"white\",\"showbackground\":true,\"ticks\":\"\",\"zerolinecolor\":\"white\",\"gridwidth\":2}},\"shapedefaults\":{\"line\":{\"color\":\"#2a3f5f\"}},\"annotationdefaults\":{\"arrowcolor\":\"#2a3f5f\",\"arrowhead\":0,\"arrowwidth\":1},\"geo\":{\"bgcolor\":\"white\",\"landcolor\":\"#E5ECF6\",\"subunitcolor\":\"white\",\"showland\":true,\"showlakes\":true,\"lakecolor\":\"white\"},\"title\":{\"x\":0.05},\"mapbox\":{\"style\":\"light\"}}},\"title\":{\"text\":\"Mean Squared Error Across Folds for Different Models\"},\"xaxis\":{\"title\":{\"text\":\"Fold Number\"}},\"yaxis\":{\"title\":{\"text\":\"Mean Squared Error\"}}},                        {\"responsive\": true}                    ).then(function(){\n",
              "                            \n",
              "var gd = document.getElementById('d44a4bf9-f4f2-4d7f-9eb5-e62e194fb2b2');\n",
              "var x = new MutationObserver(function (mutations, observer) {{\n",
              "        var display = window.getComputedStyle(gd).display;\n",
              "        if (!display || display === 'none') {{\n",
              "            console.log([gd, 'removed!']);\n",
              "            Plotly.purge(gd);\n",
              "            observer.disconnect();\n",
              "        }}\n",
              "}});\n",
              "\n",
              "// Listen for the removal of the full notebook cells\n",
              "var notebookContainer = gd.closest('#notebook-container');\n",
              "if (notebookContainer) {{\n",
              "    x.observe(notebookContainer, {childList: true});\n",
              "}}\n",
              "\n",
              "// Listen for the clearing of the current output cell\n",
              "var outputEl = gd.closest('.output');\n",
              "if (outputEl) {{\n",
              "    x.observe(outputEl, {childList: true});\n",
              "}}\n",
              "\n",
              "                        })                };                            </script>        </div>\n",
              "</body>\n",
              "</html>"
            ]
          },
          "metadata": {}
        }
      ]
    },
    {
      "cell_type": "code",
      "source": [
        "#\n",
        "all_scores = []\n",
        "\n",
        "#\n",
        "models = [RandomForestRegressor(), GradientBoostingRegressor()]\n",
        "\n",
        "for model in models:\n",
        "    model_scores = []\n",
        "\n",
        "    for fold, (train_index, test_index) in enumerate(tscv.split(X_encoded)):\n",
        "        X_train, X_test = X_encoded.iloc[train_index], X_encoded.iloc[test_index]\n",
        "        y_train, y_test = y.iloc[train_index], y.iloc[test_index]\n",
        "\n",
        "        model.fit(X_train, y_train)\n",
        "        y_pred = model.predict(X_test)\n",
        "\n",
        "        mse = mean_squared_error(y_test, y_pred)\n",
        "        model_scores.append(mse)\n",
        "\n",
        "        # print MSE\n",
        "        print(f\"Model: {str(model).split('(')[0]}, Fold: {fold}, MSE: {mse}\")\n",
        "\n",
        "    # storing scores\n",
        "    all_scores.append({'Model': str(model).split('(')[0], 'Scores': model_scores})\n"
      ],
      "metadata": {
        "colab": {
          "base_uri": "https://localhost:8080/"
        },
        "id": "x-cpNlH4l9yF",
        "outputId": "aef406eb-e6a4-4400-ebb7-ee807dc1df7f"
      },
      "execution_count": null,
      "outputs": [
        {
          "output_type": "stream",
          "name": "stdout",
          "text": [
            "Model: RandomForestRegressor, Fold: 0, MSE: 0.11267216052560204\n",
            "Model: RandomForestRegressor, Fold: 1, MSE: 0.6199605050769628\n",
            "Model: RandomForestRegressor, Fold: 2, MSE: 1.4585731404149194\n",
            "Model: RandomForestRegressor, Fold: 3, MSE: 0.6485999660076069\n",
            "Model: RandomForestRegressor, Fold: 4, MSE: 0.0840498216714077\n",
            "Model: GradientBoostingRegressor, Fold: 0, MSE: 0.11305276313970326\n",
            "Model: GradientBoostingRegressor, Fold: 1, MSE: 0.598274147475181\n",
            "Model: GradientBoostingRegressor, Fold: 2, MSE: 1.004730821992061\n",
            "Model: GradientBoostingRegressor, Fold: 3, MSE: 0.11235577163769658\n",
            "Model: GradientBoostingRegressor, Fold: 4, MSE: 0.08817824598527287\n"
          ]
        }
      ]
    },
    {
      "cell_type": "code",
      "source": [
        "print(scores_df.columns)\n"
      ],
      "metadata": {
        "colab": {
          "base_uri": "https://localhost:8080/"
        },
        "id": "1863kt2Ho_3k",
        "outputId": "4e5bed0a-cb94-4e99-ef04-96fbc67226c3"
      },
      "execution_count": null,
      "outputs": [
        {
          "output_type": "stream",
          "name": "stdout",
          "text": [
            "Index(['Model', 'Scores'], dtype='object')\n"
          ]
        }
      ]
    },
    {
      "cell_type": "code",
      "source": [
        "df = pd.read_csv('data_assignment2.csv')"
      ],
      "metadata": {
        "id": "nIQ8FSXMpmsd"
      },
      "execution_count": null,
      "outputs": []
    },
    {
      "cell_type": "code",
      "source": [
        "print(df.head())"
      ],
      "metadata": {
        "colab": {
          "base_uri": "https://localhost:8080/"
        },
        "id": "vucabhgup1at",
        "outputId": "6834b4a7-1dd0-492b-dbb6-cdf39f9ce06c"
      },
      "execution_count": null,
      "outputs": [
        {
          "output_type": "stream",
          "name": "stdout",
          "text": [
            "   Unnamed: 0    Country FoodItem UnitofMeasurement  AveragePrice Currency  \\\n",
            "0           0  Australia    Bread              Loaf          2.20      AUD   \n",
            "1           1  Australia    Bread              Loaf          2.20      AUD   \n",
            "2           2  Australia    Bread              Loaf          2.20      AUD   \n",
            "3           3  Australia    Bread              Loaf          2.21      AUD   \n",
            "4           4  Australia    Bread              Loaf          2.21      AUD   \n",
            "\n",
            "   PriceinUSD  Availability Quality Year_Month  \n",
            "0        1.47             1    High     2018-1  \n",
            "1        1.48             1    High     2018-2  \n",
            "2        1.48             1    High     2018-3  \n",
            "3        1.48             1    High     2018-4  \n",
            "4        1.48             1    High     2018-5  \n"
          ]
        }
      ]
    },
    {
      "cell_type": "markdown",
      "source": [
        "# **Which country had the hardest to predict the price  country with the highest error in test set?**"
      ],
      "metadata": {
        "id": "x7eyBb_zeojv"
      }
    },
    {
      "cell_type": "code",
      "source": [
        "# Asociate scores for each country\n",
        "model_country_scores = []\n",
        "for model_scores in all_scores:\n",
        "    model_name = model_scores['Model']\n",
        "    for i, score in enumerate(model_scores['Scores']):\n",
        "        #\n",
        "        country = df.loc[i, 'Country']\n",
        "        model_country_scores.append({'Model': model_name, 'Scores': score, 'Country': country})\n",
        "\n",
        "# find the country\n",
        "max_error_country = max(model_country_scores, key=lambda x: x['Scores'])['Country']\n",
        "print(\"country with high error:\", max_error_country)\n"
      ],
      "metadata": {
        "colab": {
          "base_uri": "https://localhost:8080/"
        },
        "id": "JHHyHxHHtzsN",
        "outputId": "8ebc838e-bb5c-453b-c565-dc3511ec65eb"
      },
      "execution_count": null,
      "outputs": [
        {
          "output_type": "stream",
          "name": "stdout",
          "text": [
            "country with high error: Australia\n"
          ]
        }
      ]
    },
    {
      "cell_type": "code",
      "source": [
        "#  one-hot encoding\n",
        "X_encoded = pd.get_dummies(X, columns=['Country', 'FoodItem', 'UnitofMeasurement', 'Currency', 'Availability', 'Quality', 'Month'])\n",
        "\n",
        "\n"
      ],
      "metadata": {
        "id": "gbkAqLS_v9tQ"
      },
      "execution_count": null,
      "outputs": []
    },
    {
      "cell_type": "markdown",
      "source": [
        "# **When you increase the `gap` in the TimeSeriesSplit function from 0 to 2, does it improve or decrease the test error?**\n"
      ],
      "metadata": {
        "id": "LrmNh3mUf3Hz"
      }
    },
    {
      "cell_type": "code",
      "source": [
        "from sklearn.ensemble import RandomForestRegressor\n",
        "from sklearn.model_selection import TimeSeriesSplit, cross_val_score\n",
        "import pandas as pd\n",
        "\n",
        "# features one-hot encoding\n",
        "X_encoded = pd.get_dummies(X, columns=['Country', 'FoodItem', 'UnitofMeasurement', 'Currency', 'Availability', 'Quality', 'Month'])\n",
        "\n",
        "# Evaluating the gap\n",
        "for gap in range(1, 4):\n",
        "    tscv = TimeSeriesSplit(n_splits=5, test_size=gap)\n",
        "    model = RandomForestRegressor()\n",
        "    scores = cross_val_score(model, X_encoded, y, cv=tscv, scoring='neg_mean_squared_error')\n",
        "    mean_mse = -scores.mean()\n",
        "    print(f\"Gap: {gap}, Mean Squared Error: {mean_mse}\")\n"
      ],
      "metadata": {
        "colab": {
          "base_uri": "https://localhost:8080/"
        },
        "id": "yUAlaOByu9Su",
        "outputId": "76ec63e0-dcc1-4e11-b902-0ea51ca84239"
      },
      "execution_count": null,
      "outputs": [
        {
          "output_type": "stream",
          "name": "stdout",
          "text": [
            "Gap: 1, Mean Squared Error: 0.02899504680360352\n",
            "Gap: 2, Mean Squared Error: 0.024542214743303762\n",
            "Gap: 3, Mean Squared Error: 0.020754979863560834\n"
          ]
        }
      ]
    },
    {
      "cell_type": "markdown",
      "source": [
        "## **Put the 4 products into one of the two buckets (only one).**\n",
        "Products that change the price similarly across all countries.\n",
        "Products whose prices change are independent of the country. In other words, just because it increased in countries A and B, does not mean it will also increase equally in countries C and D - note equally is important here, as all products will increase in price in all countries over time.\n"
      ],
      "metadata": {
        "id": "mUsS20angUmK"
      }
    },
    {
      "cell_type": "code",
      "source": [
        "# group products\n",
        "df['Category'] = df['FoodItem'].apply(lambda x: 1 if x in ['Bread', 'Milk'] else 2)\n"
      ],
      "metadata": {
        "id": "B-qSUXyJwlxc"
      },
      "execution_count": null,
      "outputs": []
    },
    {
      "cell_type": "code",
      "source": [
        "# show products\n",
        "category_table = df[['FoodItem', 'Category']].drop_duplicates()\n",
        "print(\"products and features:\")\n",
        "print(category_table)\n"
      ],
      "metadata": {
        "colab": {
          "base_uri": "https://localhost:8080/"
        },
        "id": "NvSr4PMcwu2G",
        "outputId": "438e2c80-c8cc-49bb-c731-80a3b7367d18"
      },
      "execution_count": null,
      "outputs": [
        {
          "output_type": "stream",
          "name": "stdout",
          "text": [
            "products and features:\n",
            "     FoodItem  Category\n",
            "0       Bread         1\n",
            "60       Milk         1\n",
            "120      Eggs         2\n",
            "180  Potatoes         2\n"
          ]
        }
      ]
    },
    {
      "cell_type": "code",
      "source": [
        "import numpy as np"
      ],
      "metadata": {
        "id": "ihL56sZ8xDMa"
      },
      "execution_count": null,
      "outputs": []
    },
    {
      "cell_type": "code",
      "source": [
        "plt.figure(figsize=(10, 6))\n",
        "# .\n"
      ],
      "metadata": {
        "colab": {
          "base_uri": "https://localhost:8080/",
          "height": 53
        },
        "id": "5D7AFPWxxZeu",
        "outputId": "70e79ea9-7dcf-42d8-8555-2993dd949e29"
      },
      "execution_count": null,
      "outputs": [
        {
          "output_type": "execute_result",
          "data": {
            "text/plain": [
              "<Figure size 1000x600 with 0 Axes>"
            ]
          },
          "metadata": {},
          "execution_count": 24
        },
        {
          "output_type": "display_data",
          "data": {
            "text/plain": [
              "<Figure size 1000x600 with 0 Axes>"
            ]
          },
          "metadata": {}
        }
      ]
    },
    {
      "cell_type": "markdown",
      "source": [
        "# **New Section**\n",
        "Visualize the hyper-parameters and crossvalidation\n"
      ],
      "metadata": {
        "id": "8SEzVV8Pg4pn"
      }
    },
    {
      "cell_type": "code",
      "source": [
        "from sklearn.model_selection import validation_curve\n",
        "import matplotlib.pyplot as plt\n",
        "\n",
        "# Define hyper-parameters\n",
        "param_range = [1, 10, 20, 30, 40]  #\n",
        "\n",
        "# get scores\n",
        "train_scores, test_scores = validation_curve(\n",
        "    RandomForestRegressor(),\n",
        "    X_encoded, y, param_name=\"n_estimators\", param_range=param_range,\n",
        "    scoring=\"neg_mean_squared_error\", cv=tscv\n",
        ")\n",
        "\n",
        "#plot validation\n",
        "plt.figure(figsize=(10, 6))\n",
        "plt.plot(param_range, -np.mean(train_scores, axis=1), label='Training Score')\n",
        "plt.plot(param_range, -np.mean(test_scores, axis=1), label='Cross-Validation Score')\n",
        "plt.xlabel(' (n_estimators)')\n",
        "plt.ylabel('Mean Squared Error')\n",
        "plt.legend(loc='best')\n",
        "plt.title('estimators')\n",
        "plt.show()\n"
      ],
      "metadata": {
        "colab": {
          "base_uri": "https://localhost:8080/",
          "height": 430
        },
        "id": "1M4LMaZexwV1",
        "outputId": "711f7f87-cae8-4684-f8cf-5227d401ec01"
      },
      "execution_count": null,
      "outputs": [
        {
          "output_type": "display_data",
          "data": {
            "text/plain": [
              "<Figure size 1000x600 with 1 Axes>"
            ],
            "image/png": "[encoded data removed]"
          },
          "metadata": {}
        }
      ]
    },
    {
      "cell_type": "code",
      "source": [
        "import plotly.graph_objects as go\n",
        "\n",
        "# Create a dataframe\n",
        "scores_df = pd.DataFrame()\n",
        "for model_scores in all_scores:\n",
        "    scores_df = pd.concat([scores_df, pd.DataFrame(model_scores)], ignore_index=True)\n",
        "\n",
        "# plot\n",
        "fig = go.Figure()\n",
        "\n",
        "for model, group in scores_df.groupby('Model'):\n",
        "    fig.add_trace(go.Scatter(x=group.index, y=group['Scores'], mode='lines+markers', name=model))\n",
        "\n",
        "# Design of the plot\n",
        "fig.update_layout(title='Mean Squared Error Across Folds for Different Models',\n",
        "                  xaxis_title='Fold Number', yaxis_title='Mean Squared Error')\n",
        "\n",
        "# show plot\n",
        "fig.show()\n"
      ],
      "metadata": {
        "id": "5P2uY3uDim5s",
        "outputId": "018d67d0-9bd5-46f9-9993-8191fa68e95f",
        "colab": {
          "base_uri": "https://localhost:8080/",
          "height": 542
        }
      },
      "execution_count": null,
      "outputs": [
        {
          "output_type": "display_data",
          "data": {
            "text/html": [
              "<html>\n",
              "<head><meta charset=\"utf-8\" /></head>\n",
              "<body>\n",
              "    <div>            <script src=\"https://cdnjs.cloudflare.com/ajax/libs/mathjax/2.7.5/MathJax.js?config=TeX-AMS-MML_SVG\"></script><script type=\"text/javascript\">if (window.MathJax && window.MathJax.Hub && window.MathJax.Hub.Config) {window.MathJax.Hub.Config({SVG: {font: \"STIX-Web\"}});}</script>                <script type=\"text/javascript\">window.PlotlyConfig = {MathJaxConfig: 'local'};</script>\n",
              "        <script charset=\"utf-8\" src=\"https://cdn.plot.ly/plotly-2.24.1.min.js\"></script>                <div id=\"ee8c2063-6e5d-485d-9a98-4c56ad68c406\" class=\"plotly-graph-div\" style=\"height:525px; width:100%;\"></div>            <script type=\"text/javascript\">                                    window.PLOTLYENV=window.PLOTLYENV || {};                                    if (document.getElementById(\"ee8c2063-6e5d-485d-9a98-4c56ad68c406\")) {                    Plotly.newPlot(                        \"ee8c2063-6e5d-485d-9a98-4c56ad68c406\",                        [{\"mode\":\"lines+markers\",\"name\":\"GradientBoostingRegressor\",\"x\":[5,6,7,8,9],\"y\":[0.11305276313970326,0.598274147475181,1.004730821992061,0.11235577163769658,0.08817824598527287],\"type\":\"scatter\"},{\"mode\":\"lines+markers\",\"name\":\"RandomForestRegressor\",\"x\":[0,1,2,3,4],\"y\":[0.11267216052560204,0.6199605050769628,1.4585731404149194,0.6485999660076069,0.0840498216714077],\"type\":\"scatter\"}],                        {\"template\":{\"data\":{\"histogram2dcontour\":[{\"type\":\"histogram2dcontour\",\"colorbar\":{\"outlinewidth\":0,\"ticks\":\"\"},\"colorscale\":[[0.0,\"#0d0887\"],[0.1111111111111111,\"#46039f\"],[0.2222222222222222,\"#7201a8\"],[0.3333333333333333,\"#9c179e\"],[0.4444444444444444,\"#bd3786\"],[0.5555555555555556,\"#d8576b\"],[0.6666666666666666,\"#ed7953\"],[0.7777777777777778,\"#fb9f3a\"],[0.8888888888888888,\"#fdca26\"],[1.0,\"#f0f921\"]]}],\"choropleth\":[{\"type\":\"choropleth\",\"colorbar\":{\"outlinewidth\":0,\"ticks\":\"\"}}],\"histogram2d\":[{\"type\":\"histogram2d\",\"colorbar\":{\"outlinewidth\":0,\"ticks\":\"\"},\"colorscale\":[[0.0,\"#0d0887\"],[0.1111111111111111,\"#46039f\"],[0.2222222222222222,\"#7201a8\"],[0.3333333333333333,\"#9c179e\"],[0.4444444444444444,\"#bd3786\"],[0.5555555555555556,\"#d8576b\"],[0.6666666666666666,\"#ed7953\"],[0.7777777777777778,\"#fb9f3a\"],[0.8888888888888888,\"#fdca26\"],[1.0,\"#f0f921\"]]}],\"heatmap\":[{\"type\":\"heatmap\",\"colorbar\":{\"outlinewidth\":0,\"ticks\":\"\"},\"colorscale\":[[0.0,\"#0d0887\"],[0.1111111111111111,\"#46039f\"],[0.2222222222222222,\"#7201a8\"],[0.3333333333333333,\"#9c179e\"],[0.4444444444444444,\"#bd3786\"],[0.5555555555555556,\"#d8576b\"],[0.6666666666666666,\"#ed7953\"],[0.7777777777777778,\"#fb9f3a\"],[0.8888888888888888,\"#fdca26\"],[1.0,\"#f0f921\"]]}],\"heatmapgl\":[{\"type\":\"heatmapgl\",\"colorbar\":{\"outlinewidth\":0,\"ticks\":\"\"},\"colorscale\":[[0.0,\"#0d0887\"],[0.1111111111111111,\"#46039f\"],[0.2222222222222222,\"#7201a8\"],[0.3333333333333333,\"#9c179e\"],[0.4444444444444444,\"#bd3786\"],[0.5555555555555556,\"#d8576b\"],[0.6666666666666666,\"#ed7953\"],[0.7777777777777778,\"#fb9f3a\"],[0.8888888888888888,\"#fdca26\"],[1.0,\"#f0f921\"]]}],\"contourcarpet\":[{\"type\":\"contourcarpet\",\"colorbar\":{\"outlinewidth\":0,\"ticks\":\"\"}}],\"contour\":[{\"type\":\"contour\",\"colorbar\":{\"outlinewidth\":0,\"ticks\":\"\"},\"colorscale\":[[0.0,\"#0d0887\"],[0.1111111111111111,\"#46039f\"],[0.2222222222222222,\"#7201a8\"],[0.3333333333333333,\"#9c179e\"],[0.4444444444444444,\"#bd3786\"],[0.5555555555555556,\"#d8576b\"],[0.6666666666666666,\"#ed7953\"],[0.7777777777777778,\"#fb9f3a\"],[0.8888888888888888,\"#fdca26\"],[1.0,\"#f0f921\"]]}],\"surface\":[{\"type\":\"surface\",\"colorbar\":{\"outlinewidth\":0,\"ticks\":\"\"},\"colorscale\":[[0.0,\"#0d0887\"],[0.1111111111111111,\"#46039f\"],[0.2222222222222222,\"#7201a8\"],[0.3333333333333333,\"#9c179e\"],[0.4444444444444444,\"#bd3786\"],[0.5555555555555556,\"#d8576b\"],[0.6666666666666666,\"#ed7953\"],[0.7777777777777778,\"#fb9f3a\"],[0.8888888888888888,\"#fdca26\"],[1.0,\"#f0f921\"]]}],\"mesh3d\":[{\"type\":\"mesh3d\",\"colorbar\":{\"outlinewidth\":0,\"ticks\":\"\"}}],\"scatter\":[{\"fillpattern\":{\"fillmode\":\"overlay\",\"size\":10,\"solidity\":0.2},\"type\":\"scatter\"}],\"parcoords\":[{\"type\":\"parcoords\",\"line\":{\"colorbar\":{\"outlinewidth\":0,\"ticks\":\"\"}}}],\"scatterpolargl\":[{\"type\":\"scatterpolargl\",\"marker\":{\"colorbar\":{\"outlinewidth\":0,\"ticks\":\"\"}}}],\"bar\":[{\"error_x\":{\"color\":\"#2a3f5f\"},\"error_y\":{\"color\":\"#2a3f5f\"},\"marker\":{\"line\":{\"color\":\"#E5ECF6\",\"width\":0.5},\"pattern\":{\"fillmode\":\"overlay\",\"size\":10,\"solidity\":0.2}},\"type\":\"bar\"}],\"scattergeo\":[{\"type\":\"scattergeo\",\"marker\":{\"colorbar\":{\"outlinewidth\":0,\"ticks\":\"\"}}}],\"scatterpolar\":[{\"type\":\"scatterpolar\",\"marker\":{\"colorbar\":{\"outlinewidth\":0,\"ticks\":\"\"}}}],\"histogram\":[{\"marker\":{\"pattern\":{\"fillmode\":\"overlay\",\"size\":10,\"solidity\":0.2}},\"type\":\"histogram\"}],\"scattergl\":[{\"type\":\"scattergl\",\"marker\":{\"colorbar\":{\"outlinewidth\":0,\"ticks\":\"\"}}}],\"scatter3d\":[{\"type\":\"scatter3d\",\"line\":{\"colorbar\":{\"outlinewidth\":0,\"ticks\":\"\"}},\"marker\":{\"colorbar\":{\"outlinewidth\":0,\"ticks\":\"\"}}}],\"scattermapbox\":[{\"type\":\"scattermapbox\",\"marker\":{\"colorbar\":{\"outlinewidth\":0,\"ticks\":\"\"}}}],\"scatterternary\":[{\"type\":\"scatterternary\",\"marker\":{\"colorbar\":{\"outlinewidth\":0,\"ticks\":\"\"}}}],\"scattercarpet\":[{\"type\":\"scattercarpet\",\"marker\":{\"colorbar\":{\"outlinewidth\":0,\"ticks\":\"\"}}}],\"carpet\":[{\"aaxis\":{\"endlinecolor\":\"#2a3f5f\",\"gridcolor\":\"white\",\"linecolor\":\"white\",\"minorgridcolor\":\"white\",\"startlinecolor\":\"#2a3f5f\"},\"baxis\":{\"endlinecolor\":\"#2a3f5f\",\"gridcolor\":\"white\",\"linecolor\":\"white\",\"minorgridcolor\":\"white\",\"startlinecolor\":\"#2a3f5f\"},\"type\":\"carpet\"}],\"table\":[{\"cells\":{\"fill\":{\"color\":\"#EBF0F8\"},\"line\":{\"color\":\"white\"}},\"header\":{\"fill\":{\"color\":\"#C8D4E3\"},\"line\":{\"color\":\"white\"}},\"type\":\"table\"}],\"barpolar\":[{\"marker\":{\"line\":{\"color\":\"#E5ECF6\",\"width\":0.5},\"pattern\":{\"fillmode\":\"overlay\",\"size\":10,\"solidity\":0.2}},\"type\":\"barpolar\"}],\"pie\":[{\"automargin\":true,\"type\":\"pie\"}]},\"layout\":{\"autotypenumbers\":\"strict\",\"colorway\":[\"#636efa\",\"#EF553B\",\"#00cc96\",\"#ab63fa\",\"#FFA15A\",\"#19d3f3\",\"#FF6692\",\"#B6E880\",\"#FF97FF\",\"#FECB52\"],\"font\":{\"color\":\"#2a3f5f\"},\"hovermode\":\"closest\",\"hoverlabel\":{\"align\":\"left\"},\"paper_bgcolor\":\"white\",\"plot_bgcolor\":\"#E5ECF6\",\"polar\":{\"bgcolor\":\"#E5ECF6\",\"angularaxis\":{\"gridcolor\":\"white\",\"linecolor\":\"white\",\"ticks\":\"\"},\"radialaxis\":{\"gridcolor\":\"white\",\"linecolor\":\"white\",\"ticks\":\"\"}},\"ternary\":{\"bgcolor\":\"#E5ECF6\",\"aaxis\":{\"gridcolor\":\"white\",\"linecolor\":\"white\",\"ticks\":\"\"},\"baxis\":{\"gridcolor\":\"white\",\"linecolor\":\"white\",\"ticks\":\"\"},\"caxis\":{\"gridcolor\":\"white\",\"linecolor\":\"white\",\"ticks\":\"\"}},\"coloraxis\":{\"colorbar\":{\"outlinewidth\":0,\"ticks\":\"\"}},\"colorscale\":{\"sequential\":[[0.0,\"#0d0887\"],[0.1111111111111111,\"#46039f\"],[0.2222222222222222,\"#7201a8\"],[0.3333333333333333,\"#9c179e\"],[0.4444444444444444,\"#bd3786\"],[0.5555555555555556,\"#d8576b\"],[0.6666666666666666,\"#ed7953\"],[0.7777777777777778,\"#fb9f3a\"],[0.8888888888888888,\"#fdca26\"],[1.0,\"#f0f921\"]],\"sequentialminus\":[[0.0,\"#0d0887\"],[0.1111111111111111,\"#46039f\"],[0.2222222222222222,\"#7201a8\"],[0.3333333333333333,\"#9c179e\"],[0.4444444444444444,\"#bd3786\"],[0.5555555555555556,\"#d8576b\"],[0.6666666666666666,\"#ed7953\"],[0.7777777777777778,\"#fb9f3a\"],[0.8888888888888888,\"#fdca26\"],[1.0,\"#f0f921\"]],\"diverging\":[[0,\"#8e0152\"],[0.1,\"#c51b7d\"],[0.2,\"#de77ae\"],[0.3,\"#f1b6da\"],[0.4,\"#fde0ef\"],[0.5,\"#f7f7f7\"],[0.6,\"#e6f5d0\"],[0.7,\"#b8e186\"],[0.8,\"#7fbc41\"],[0.9,\"#4d9221\"],[1,\"#276419\"]]},\"xaxis\":{\"gridcolor\":\"white\",\"linecolor\":\"white\",\"ticks\":\"\",\"title\":{\"standoff\":15},\"zerolinecolor\":\"white\",\"automargin\":true,\"zerolinewidth\":2},\"yaxis\":{\"gridcolor\":\"white\",\"linecolor\":\"white\",\"ticks\":\"\",\"title\":{\"standoff\":15},\"zerolinecolor\":\"white\",\"automargin\":true,\"zerolinewidth\":2},\"scene\":{\"xaxis\":{\"backgroundcolor\":\"#E5ECF6\",\"gridcolor\":\"white\",\"linecolor\":\"white\",\"showbackground\":true,\"ticks\":\"\",\"zerolinecolor\":\"white\",\"gridwidth\":2},\"yaxis\":{\"backgroundcolor\":\"#E5ECF6\",\"gridcolor\":\"white\",\"linecolor\":\"white\",\"showbackground\":true,\"ticks\":\"\",\"zerolinecolor\":\"white\",\"gridwidth\":2},\"zaxis\":{\"backgroundcolor\":\"#E5ECF6\",\"gridcolor\":\"white\",\"linecolor\":\"white\",\"showbackground\":true,\"ticks\":\"\",\"zerolinecolor\":\"white\",\"gridwidth\":2}},\"shapedefaults\":{\"line\":{\"color\":\"#2a3f5f\"}},\"annotationdefaults\":{\"arrowcolor\":\"#2a3f5f\",\"arrowhead\":0,\"arrowwidth\":1},\"geo\":{\"bgcolor\":\"white\",\"landcolor\":\"#E5ECF6\",\"subunitcolor\":\"white\",\"showland\":true,\"showlakes\":true,\"lakecolor\":\"white\"},\"title\":{\"x\":0.05},\"mapbox\":{\"style\":\"light\"}}},\"title\":{\"text\":\"Mean Squared Error Across Folds for Different Models\"},\"xaxis\":{\"title\":{\"text\":\"Fold Number\"}},\"yaxis\":{\"title\":{\"text\":\"Mean Squared Error\"}}},                        {\"responsive\": true}                    ).then(function(){\n",
              "                            \n",
              "var gd = document.getElementById('ee8c2063-6e5d-485d-9a98-4c56ad68c406');\n",
              "var x = new MutationObserver(function (mutations, observer) {{\n",
              "        var display = window.getComputedStyle(gd).display;\n",
              "        if (!display || display === 'none') {{\n",
              "            console.log([gd, 'removed!']);\n",
              "            Plotly.purge(gd);\n",
              "            observer.disconnect();\n",
              "        }}\n",
              "}});\n",
              "\n",
              "// Listen for the removal of the full notebook cells\n",
              "var notebookContainer = gd.closest('#notebook-container');\n",
              "if (notebookContainer) {{\n",
              "    x.observe(notebookContainer, {childList: true});\n",
              "}}\n",
              "\n",
              "// Listen for the clearing of the current output cell\n",
              "var outputEl = gd.closest('.output');\n",
              "if (outputEl) {{\n",
              "    x.observe(outputEl, {childList: true});\n",
              "}}\n",
              "\n",
              "                        })                };                            </script>        </div>\n",
              "</body>\n",
              "</html>"
            ]
          },
          "metadata": {}
        }
      ]
    }
  ]
}