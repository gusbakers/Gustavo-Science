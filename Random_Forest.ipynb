{
  "cells": [
    {
      "cell_type": "code",
      "execution_count": null,
      "outputs": [],
      "source": [
        "import math\n",
        "import pandas as pd"
      ],
      "metadata": {
        "ExecuteTime": {
          "end_time": "2023-06-06T13:33:11.876911Z",
          "start_time": "2023-06-06T13:33:11.868551Z"
        },
        "id": "wB17K3OI3abk"
      }
    },
    {
      "cell_type": "code",
      "execution_count": null,
      "metadata": {
        "collapsed": true,
        "ExecuteTime": {
          "end_time": "2023-06-06T13:33:11.881181Z",
          "start_time": "2023-06-06T13:33:11.874271Z"
        },
        "id": "D81nk3MT3abn"
      },
      "outputs": [],
      "source": [
        "data_path = '/Users/aprakash/courses/MLI/assignments/three/'"
      ]
    },
    {
      "cell_type": "code",
      "execution_count": null,
      "outputs": [],
      "source": [
        "data = pd.read_csv(f'{data_path}/train.csv')\n",
        "label_column = 'Survived' # this is the column that denotes 'y' or ground truth"
      ],
      "metadata": {
        "ExecuteTime": {
          "end_time": "2023-06-06T13:33:11.906239Z",
          "start_time": "2023-06-06T13:33:11.882302Z"
        },
        "id": "dWfGcs_L3abo"
      }
    },
    {
      "cell_type": "code",
      "execution_count": null,
      "outputs": [],
      "source": [
        "columns = data.columns.to_list()\n",
        "columns.remove(label_column)"
      ],
      "metadata": {
        "ExecuteTime": {
          "end_time": "2023-06-06T13:33:11.929270Z",
          "start_time": "2023-06-06T13:33:11.907468Z"
        },
        "id": "yOllqoG13abo"
      }
    },
    {
      "cell_type": "code",
      "execution_count": null,
      "outputs": [],
      "source": [
        "from sklearn import preprocessing\n",
        "le = preprocessing.LabelEncoder()"
      ],
      "metadata": {
        "ExecuteTime": {
          "end_time": "2023-06-06T13:33:12.256964Z",
          "start_time": "2023-06-06T13:33:11.911527Z"
        },
        "id": "6OZkRw6K3abp"
      }
    },
    {
      "cell_type": "code",
      "execution_count": null,
      "outputs": [],
      "source": [
        "X = data[columns].apply(le.fit_transform, axis=0)\n",
        "y = data[label_column]\n",
        "feature_names = X.columns"
      ],
      "metadata": {
        "ExecuteTime": {
          "end_time": "2023-06-06T13:33:12.278461Z",
          "start_time": "2023-06-06T13:33:12.265963Z"
        },
        "id": "c0OClWmS3abp"
      }
    },
    {
      "cell_type": "code",
      "execution_count": null,
      "outputs": [],
      "source": [
        "from sklearn.model_selection import train_test_split"
      ],
      "metadata": {
        "ExecuteTime": {
          "end_time": "2023-06-06T13:33:12.718909Z",
          "start_time": "2023-06-06T13:33:12.279063Z"
        },
        "id": "oWel9CFZ3abp"
      }
    },
    {
      "cell_type": "code",
      "execution_count": null,
      "outputs": [],
      "source": [
        "X_train, X_test, y_train, y_test = train_test_split(X, y, test_size=0.2, random_state=42)"
      ],
      "metadata": {
        "ExecuteTime": {
          "end_time": "2023-06-06T13:33:12.726784Z",
          "start_time": "2023-06-06T13:33:12.722865Z"
        },
        "id": "5ywtLzl43abq"
      }
    },
    {
      "cell_type": "code",
      "execution_count": null,
      "outputs": [],
      "source": [
        "from sklearn.ensemble import RandomForestClassifier\n",
        "model = RandomForestClassifier()"
      ],
      "metadata": {
        "ExecuteTime": {
          "end_time": "2023-06-05T22:24:29.812831Z",
          "start_time": "2023-06-05T22:24:29.811584Z"
        },
        "id": "Y983aHg73abq"
      }
    },
    {
      "cell_type": "markdown",
      "source": [
        "## Brute force\n",
        "### Iterate over all permutations\n",
        "\n",
        "This is not recommended, but showing you how to do as a learning tool"
      ],
      "metadata": {
        "collapsed": false,
        "id": "hv4HgtSL3abq"
      }
    },
    {
      "cell_type": "code",
      "execution_count": null,
      "outputs": [
        {
          "name": "stderr",
          "output_type": "stream",
          "text": [
            "165it [00:22,  7.27it/s]\n"
          ]
        }
      ],
      "source": [
        "from itertools import combinations\n",
        "\n",
        "best_accuracy = -math.inf\n",
        "best_combination = None\n",
        "\n",
        "for three_feat in combinations(X.columns, 3):\n",
        "    _ = model.fit(X_train[list(three_feat)], y_train)\n",
        "    accuracy = model.score(X_test[list(three_feat)], y_test)\n",
        "    if accuracy > best_accuracy:\n",
        "        best_accuracy = accuracy\n",
        "        best_combination = three_feat"
      ],
      "metadata": {
        "ExecuteTime": {
          "end_time": "2023-06-05T22:40:40.141737Z",
          "start_time": "2023-06-05T22:40:17.445517Z"
        },
        "id": "KLHBj0lT3abr",
        "outputId": "01fb346a-1fe2-42e3-e821-c0adbd952c28"
      }
    },
    {
      "cell_type": "code",
      "execution_count": null,
      "outputs": [
        {
          "name": "stdout",
          "output_type": "stream",
          "text": [
            "0.8379888268156425 with ('Sex', 'Ticket', 'Fare')\n"
          ]
        }
      ],
      "source": [
        "print(f'{best_accuracy} with {best_combination}')"
      ],
      "metadata": {
        "ExecuteTime": {
          "end_time": "2023-06-05T22:41:33.345214Z",
          "start_time": "2023-06-05T22:41:33.336995Z"
        },
        "id": "BmSDaIGP3abs",
        "outputId": "3757140d-4db1-4c19-e23d-1be1e833224f"
      }
    },
    {
      "cell_type": "markdown",
      "source": [
        "## Logistic Regression"
      ],
      "metadata": {
        "collapsed": false,
        "id": "V1_2e7gC3abs"
      }
    },
    {
      "cell_type": "code",
      "execution_count": null,
      "outputs": [
        {
          "data": {
            "text/plain": "        feature  accuracy\n3           Sex  0.782123\n1        Pclass  0.703911\n8          Fare  0.670391\n9         Cabin  0.642458\n10     Embarked  0.625698\n0   PassengerId  0.586592\n2          Name  0.586592\n4           Age  0.586592\n5         SibSp  0.586592\n7        Ticket  0.586592\n6         Parch  0.569832",
            "text/html": "<div>\n<style scoped>\n    .dataframe tbody tr th:only-of-type {\n        vertical-align: middle;\n    }\n\n    .dataframe tbody tr th {\n        vertical-align: top;\n    }\n\n    .dataframe thead th {\n        text-align: right;\n    }\n</style>\n<table border=\"1\" class=\"dataframe\">\n  <thead>\n    <tr style=\"text-align: right;\">\n      <th></th>\n      <th>feature</th>\n      <th>accuracy</th>\n    </tr>\n  </thead>\n  <tbody>\n    <tr>\n      <th>3</th>\n      <td>Sex</td>\n      <td>0.782123</td>\n    </tr>\n    <tr>\n      <th>1</th>\n      <td>Pclass</td>\n      <td>0.703911</td>\n    </tr>\n    <tr>\n      <th>8</th>\n      <td>Fare</td>\n      <td>0.670391</td>\n    </tr>\n    <tr>\n      <th>9</th>\n      <td>Cabin</td>\n      <td>0.642458</td>\n    </tr>\n    <tr>\n      <th>10</th>\n      <td>Embarked</td>\n      <td>0.625698</td>\n    </tr>\n    <tr>\n      <th>0</th>\n      <td>PassengerId</td>\n      <td>0.586592</td>\n    </tr>\n    <tr>\n      <th>2</th>\n      <td>Name</td>\n      <td>0.586592</td>\n    </tr>\n    <tr>\n      <th>4</th>\n      <td>Age</td>\n      <td>0.586592</td>\n    </tr>\n    <tr>\n      <th>5</th>\n      <td>SibSp</td>\n      <td>0.586592</td>\n    </tr>\n    <tr>\n      <th>7</th>\n      <td>Ticket</td>\n      <td>0.586592</td>\n    </tr>\n    <tr>\n      <th>6</th>\n      <td>Parch</td>\n      <td>0.569832</td>\n    </tr>\n  </tbody>\n</table>\n</div>"
          },
          "execution_count": 14,
          "metadata": {},
          "output_type": "execute_result"
        }
      ],
      "source": [
        "# logistic regression using sklearn\n",
        "from sklearn.linear_model import LogisticRegression\n",
        "\n",
        "model = LogisticRegression()\n",
        "\n",
        "results = []\n",
        "for feat in X.columns:\n",
        "    _ = model.fit(X_train[[feat]], y_train)\n",
        "    accuracy = model.score(X_test[[feat]], y_test)\n",
        "    results.append({'feature':feat, 'accuracy':accuracy})\n",
        "\n",
        "df_results = pd.DataFrame.from_records(results).sort_values('accuracy', ascending=False)\n",
        "df_results"
      ],
      "metadata": {
        "ExecuteTime": {
          "end_time": "2023-06-06T13:36:55.126949Z",
          "start_time": "2023-06-06T13:36:55.021113Z"
        },
        "id": "1iDX8ysV3abt",
        "outputId": "f684e758-c7f7-413e-c807-87b7022d4f97"
      }
    },
    {
      "cell_type": "code",
      "execution_count": null,
      "outputs": [],
      "source": [
        "three_feat = df_results['feature'][:3]"
      ],
      "metadata": {
        "ExecuteTime": {
          "end_time": "2023-06-06T13:41:20.229033Z",
          "start_time": "2023-06-06T13:41:20.217083Z"
        },
        "id": "M42fun1s3abt"
      }
    },
    {
      "cell_type": "code",
      "execution_count": null,
      "outputs": [
        {
          "name": "stdout",
          "output_type": "stream",
          "text": [
            "Three best features: ['Sex', 'Pclass', 'Fare'], and the accuracy is 0.82\n"
          ]
        }
      ],
      "source": [
        "# Let's use the three best feature\n",
        "from sklearn.ensemble import RandomForestClassifier\n",
        "\n",
        "model = RandomForestClassifier()\n",
        "\n",
        "model.fit(X_train[three_feat], y_train)\n",
        "accuracy = model.score(X_test[three_feat], y_test)\n",
        "\n",
        "print(f'Three best features: {three_feat.to_list()}, and the accuracy is {accuracy:.2f}')"
      ],
      "metadata": {
        "ExecuteTime": {
          "end_time": "2023-06-06T13:41:37.610966Z",
          "start_time": "2023-06-06T13:41:37.408905Z"
        },
        "id": "R1BxyucE3abt",
        "outputId": "a7cdfdb0-69ef-490a-94b1-d430a5aa34c1"
      }
    },
    {
      "cell_type": "markdown",
      "source": [
        "## Sequential Feature Selection\n",
        "This is a greedy approach - and for each feature decides whether to keep it or remove it\n",
        "\n",
        "Thus it will yield different result in each direction\n",
        "\n",
        "This is not a good solution, as your initial order of feature matters"
      ],
      "metadata": {
        "collapsed": false,
        "id": "qoqUTxmn3abt"
      }
    },
    {
      "cell_type": "code",
      "execution_count": null,
      "outputs": [],
      "source": [
        "_ = model.fit(X_train, y_train) # first fit the model on all the features"
      ],
      "metadata": {
        "ExecuteTime": {
          "end_time": "2023-06-05T22:52:23.719869Z",
          "start_time": "2023-06-05T22:52:23.391881Z"
        },
        "id": "oBpjuH753abu"
      }
    },
    {
      "cell_type": "code",
      "execution_count": null,
      "outputs": [
        {
          "name": "stdout",
          "output_type": "stream",
          "text": [
            "Features selected by forward sequential selection: Index(['Pclass', 'Sex', 'SibSp'], dtype='object')\n",
            "Features selected by backward sequential selection: Index(['Sex', 'Ticket', 'Fare'], dtype='object')\n"
          ]
        }
      ],
      "source": [
        "from sklearn.feature_selection import SequentialFeatureSelector\n",
        "\n",
        "sfs_forward = SequentialFeatureSelector(model, n_features_to_select=3, direction=\"forward\").fit(X, y)\n",
        "sfs_backward = SequentialFeatureSelector(model, n_features_to_select=3, direction=\"backward\").fit(X, y)\n",
        "\n",
        "print(\n",
        "    \"Features selected by forward sequential selection: \"\n",
        "    f\"{feature_names[sfs_forward.get_support()]}\"\n",
        ")\n",
        "print(\n",
        "    \"Features selected by backward sequential selection: \"\n",
        "    f\"{feature_names[sfs_backward.get_support()]}\"\n",
        ")"
      ],
      "metadata": {
        "ExecuteTime": {
          "end_time": "2023-06-05T22:53:36.769467Z",
          "start_time": "2023-06-05T22:52:32.113176Z"
        },
        "id": "MI3948o23abu",
        "outputId": "30c78a2f-fdc0-4ff2-bd38-edd3eaddd350"
      }
    },
    {
      "cell_type": "markdown",
      "source": [
        "## Use Feature Selector\n",
        "\n",
        "### This is better than Greedy\n",
        "\n",
        "Please read: https://scikit-learn.org/stable/modules/feature_selection.html"
      ],
      "metadata": {
        "collapsed": false,
        "id": "y_0meCnT3abu"
      }
    },
    {
      "cell_type": "code",
      "execution_count": null,
      "outputs": [
        {
          "data": {
            "text/plain": "SelectFromModel(estimator=RandomForestClassifier())",
            "text/html": "<style>#sk-container-id-4 {color: black;background-color: white;}#sk-container-id-4 pre{padding: 0;}#sk-container-id-4 div.sk-toggleable {background-color: white;}#sk-container-id-4 label.sk-toggleable__label {cursor: pointer;display: block;width: 100%;margin-bottom: 0;padding: 0.3em;box-sizing: border-box;text-align: center;}#sk-container-id-4 label.sk-toggleable__label-arrow:before {content: \"▸\";float: left;margin-right: 0.25em;color: #696969;}#sk-container-id-4 label.sk-toggleable__label-arrow:hover:before {color: black;}#sk-container-id-4 div.sk-estimator:hover label.sk-toggleable__label-arrow:before {color: black;}#sk-container-id-4 div.sk-toggleable__content {max-height: 0;max-width: 0;overflow: hidden;text-align: left;background-color: #f0f8ff;}#sk-container-id-4 div.sk-toggleable__content pre {margin: 0.2em;color: black;border-radius: 0.25em;background-color: #f0f8ff;}#sk-container-id-4 input.sk-toggleable__control:checked~div.sk-toggleable__content {max-height: 200px;max-width: 100%;overflow: auto;}#sk-container-id-4 input.sk-toggleable__control:checked~label.sk-toggleable__label-arrow:before {content: \"▾\";}#sk-container-id-4 div.sk-estimator input.sk-toggleable__control:checked~label.sk-toggleable__label {background-color: #d4ebff;}#sk-container-id-4 div.sk-label input.sk-toggleable__control:checked~label.sk-toggleable__label {background-color: #d4ebff;}#sk-container-id-4 input.sk-hidden--visually {border: 0;clip: rect(1px 1px 1px 1px);clip: rect(1px, 1px, 1px, 1px);height: 1px;margin: -1px;overflow: hidden;padding: 0;position: absolute;width: 1px;}#sk-container-id-4 div.sk-estimator {font-family: monospace;background-color: #f0f8ff;border: 1px dotted black;border-radius: 0.25em;box-sizing: border-box;margin-bottom: 0.5em;}#sk-container-id-4 div.sk-estimator:hover {background-color: #d4ebff;}#sk-container-id-4 div.sk-parallel-item::after {content: \"\";width: 100%;border-bottom: 1px solid gray;flex-grow: 1;}#sk-container-id-4 div.sk-label:hover label.sk-toggleable__label {background-color: #d4ebff;}#sk-container-id-4 div.sk-serial::before {content: \"\";position: absolute;border-left: 1px solid gray;box-sizing: border-box;top: 0;bottom: 0;left: 50%;z-index: 0;}#sk-container-id-4 div.sk-serial {display: flex;flex-direction: column;align-items: center;background-color: white;padding-right: 0.2em;padding-left: 0.2em;position: relative;}#sk-container-id-4 div.sk-item {position: relative;z-index: 1;}#sk-container-id-4 div.sk-parallel {display: flex;align-items: stretch;justify-content: center;background-color: white;position: relative;}#sk-container-id-4 div.sk-item::before, #sk-container-id-4 div.sk-parallel-item::before {content: \"\";position: absolute;border-left: 1px solid gray;box-sizing: border-box;top: 0;bottom: 0;left: 50%;z-index: -1;}#sk-container-id-4 div.sk-parallel-item {display: flex;flex-direction: column;z-index: 1;position: relative;background-color: white;}#sk-container-id-4 div.sk-parallel-item:first-child::after {align-self: flex-end;width: 50%;}#sk-container-id-4 div.sk-parallel-item:last-child::after {align-self: flex-start;width: 50%;}#sk-container-id-4 div.sk-parallel-item:only-child::after {width: 0;}#sk-container-id-4 div.sk-dashed-wrapped {border: 1px dashed gray;margin: 0 0.4em 0.5em 0.4em;box-sizing: border-box;padding-bottom: 0.4em;background-color: white;}#sk-container-id-4 div.sk-label label {font-family: monospace;font-weight: bold;display: inline-block;line-height: 1.2em;}#sk-container-id-4 div.sk-label-container {text-align: center;}#sk-container-id-4 div.sk-container {/* jupyter's `normalize.less` sets `[hidden] { display: none; }` but bootstrap.min.css set `[hidden] { display: none !important; }` so we also need the `!important` here to be able to override the default hidden behavior on the sphinx rendered scikit-learn.org. See: https://github.com/scikit-learn/scikit-learn/issues/21755 */display: inline-block !important;position: relative;}#sk-container-id-4 div.sk-text-repr-fallback {display: none;}</style><div id=\"sk-container-id-4\" class=\"sk-top-container\"><div class=\"sk-text-repr-fallback\"><pre>SelectFromModel(estimator=RandomForestClassifier())</pre><b>In a Jupyter environment, please rerun this cell to show the HTML representation or trust the notebook. <br />On GitHub, the HTML representation is unable to render, please try loading this page with nbviewer.org.</b></div><div class=\"sk-container\" hidden><div class=\"sk-item sk-dashed-wrapped\"><div class=\"sk-label-container\"><div class=\"sk-label sk-toggleable\"><input class=\"sk-toggleable__control sk-hidden--visually\" id=\"sk-estimator-id-4\" type=\"checkbox\" ><label for=\"sk-estimator-id-4\" class=\"sk-toggleable__label sk-toggleable__label-arrow\">SelectFromModel</label><div class=\"sk-toggleable__content\"><pre>SelectFromModel(estimator=RandomForestClassifier())</pre></div></div></div><div class=\"sk-parallel\"><div class=\"sk-parallel-item\"><div class=\"sk-item\"><div class=\"sk-label-container\"><div class=\"sk-label sk-toggleable\"><input class=\"sk-toggleable__control sk-hidden--visually\" id=\"sk-estimator-id-5\" type=\"checkbox\" ><label for=\"sk-estimator-id-5\" class=\"sk-toggleable__label sk-toggleable__label-arrow\">estimator: RandomForestClassifier</label><div class=\"sk-toggleable__content\"><pre>RandomForestClassifier()</pre></div></div></div><div class=\"sk-serial\"><div class=\"sk-item\"><div class=\"sk-estimator sk-toggleable\"><input class=\"sk-toggleable__control sk-hidden--visually\" id=\"sk-estimator-id-6\" type=\"checkbox\" ><label for=\"sk-estimator-id-6\" class=\"sk-toggleable__label sk-toggleable__label-arrow\">RandomForestClassifier</label><div class=\"sk-toggleable__content\"><pre>RandomForestClassifier()</pre></div></div></div></div></div></div></div></div></div></div>"
          },
          "execution_count": 108,
          "metadata": {},
          "output_type": "execute_result"
        }
      ],
      "source": [
        "from sklearn.feature_selection import SelectFromModel\n",
        "\n",
        "sel = SelectFromModel(RandomForestClassifier(n_estimators = 100))\n",
        "sel.fit(X_train, y_train)\n"
      ],
      "metadata": {
        "ExecuteTime": {
          "end_time": "2023-06-05T22:58:27.817237Z",
          "start_time": "2023-06-05T22:58:27.557237Z"
        },
        "id": "KiJ9z1Z-3abu",
        "outputId": "32e8edd4-249d-438f-a3f3-b742b136cbab"
      }
    },
    {
      "cell_type": "code",
      "execution_count": null,
      "outputs": [],
      "source": [
        "result = pd.DataFrame.from_dict({'Feature':feature_names, 'Importance':sel.estimator_.feature_importances_, 'Support':sel.get_support()})"
      ],
      "metadata": {
        "ExecuteTime": {
          "end_time": "2023-06-05T23:05:20.231760Z",
          "start_time": "2023-06-05T23:05:20.203179Z"
        },
        "id": "MKNvyRzi3abu"
      }
    },
    {
      "cell_type": "code",
      "execution_count": null,
      "outputs": [
        {
          "data": {
            "text/plain": "        Feature  Importance  Support\n0   PassengerId    0.103113     True\n1        Pclass    0.055399    False\n2          Name    0.108508     True\n3           Sex    0.246186     True\n4           Age    0.106743     True\n5         SibSp    0.027025    False\n6         Parch    0.022627    False\n7        Ticket    0.126613     True\n8          Fare    0.122764     True\n9         Cabin    0.060577    False\n10     Embarked    0.020445    False",
            "text/html": "<div>\n<style scoped>\n    .dataframe tbody tr th:only-of-type {\n        vertical-align: middle;\n    }\n\n    .dataframe tbody tr th {\n        vertical-align: top;\n    }\n\n    .dataframe thead th {\n        text-align: right;\n    }\n</style>\n<table border=\"1\" class=\"dataframe\">\n  <thead>\n    <tr style=\"text-align: right;\">\n      <th></th>\n      <th>Feature</th>\n      <th>Importance</th>\n      <th>Support</th>\n    </tr>\n  </thead>\n  <tbody>\n    <tr>\n      <th>0</th>\n      <td>PassengerId</td>\n      <td>0.103113</td>\n      <td>True</td>\n    </tr>\n    <tr>\n      <th>1</th>\n      <td>Pclass</td>\n      <td>0.055399</td>\n      <td>False</td>\n    </tr>\n    <tr>\n      <th>2</th>\n      <td>Name</td>\n      <td>0.108508</td>\n      <td>True</td>\n    </tr>\n    <tr>\n      <th>3</th>\n      <td>Sex</td>\n      <td>0.246186</td>\n      <td>True</td>\n    </tr>\n    <tr>\n      <th>4</th>\n      <td>Age</td>\n      <td>0.106743</td>\n      <td>True</td>\n    </tr>\n    <tr>\n      <th>5</th>\n      <td>SibSp</td>\n      <td>0.027025</td>\n      <td>False</td>\n    </tr>\n    <tr>\n      <th>6</th>\n      <td>Parch</td>\n      <td>0.022627</td>\n      <td>False</td>\n    </tr>\n    <tr>\n      <th>7</th>\n      <td>Ticket</td>\n      <td>0.126613</td>\n      <td>True</td>\n    </tr>\n    <tr>\n      <th>8</th>\n      <td>Fare</td>\n      <td>0.122764</td>\n      <td>True</td>\n    </tr>\n    <tr>\n      <th>9</th>\n      <td>Cabin</td>\n      <td>0.060577</td>\n      <td>False</td>\n    </tr>\n    <tr>\n      <th>10</th>\n      <td>Embarked</td>\n      <td>0.020445</td>\n      <td>False</td>\n    </tr>\n  </tbody>\n</table>\n</div>"
          },
          "execution_count": 123,
          "metadata": {},
          "output_type": "execute_result"
        }
      ],
      "source": [
        "result"
      ],
      "metadata": {
        "ExecuteTime": {
          "end_time": "2023-06-05T23:05:26.366090Z",
          "start_time": "2023-06-05T23:05:26.355293Z"
        },
        "id": "AXppkbWZ3abv",
        "outputId": "72386012-598f-4e1d-ecc3-7dbf76bd9c4e"
      }
    },
    {
      "cell_type": "code",
      "execution_count": null,
      "outputs": [],
      "source": [
        "import seaborn as sns"
      ],
      "metadata": {
        "ExecuteTime": {
          "end_time": "2023-06-05T23:05:37.924774Z",
          "start_time": "2023-06-05T23:05:37.827614Z"
        },
        "id": "Nky4Nb5r3abv"
      }
    },
    {
      "cell_type": "code",
      "execution_count": null,
      "outputs": [
        {
          "data": {
            "text/plain": "<Figure size 640x480 with 1 Axes>",
            "image/png": "[encoded data removed]"
          },
          "metadata": {},
          "output_type": "display_data"
        }
      ],
      "source": [
        "ax = sns.barplot(data=result.sort_values(by='Importance'), x='Feature', y='Importance', hue='Support')\n",
        "ax.tick_params(axis='x', rotation=90)"
      ],
      "metadata": {
        "ExecuteTime": {
          "end_time": "2023-06-05T23:07:38.155034Z",
          "start_time": "2023-06-05T23:07:37.400889Z"
        },
        "id": "wJRGA-EM3abv",
        "outputId": "9eea893d-85cd-45d2-b4b0-4ad66b1521f2"
      }
    },
    {
      "cell_type": "code",
      "execution_count": null,
      "outputs": [
        {
          "data": {
            "text/plain": "3       Sex\n7    Ticket\n8      Fare\nName: Feature, dtype: object"
          },
          "execution_count": 134,
          "metadata": {},
          "output_type": "execute_result"
        }
      ],
      "source": [
        "best_features = result.sort_values(by='Importance', ascending=False)['Feature'][:3]\n",
        "best_features"
      ],
      "metadata": {
        "ExecuteTime": {
          "end_time": "2023-06-05T23:10:49.176505Z",
          "start_time": "2023-06-05T23:10:49.170655Z"
        },
        "id": "V_IFNqSt3abv",
        "outputId": "a6d3f9ba-6be4-4d17-ed88-980faf7f392f"
      }
    },
    {
      "cell_type": "markdown",
      "source": [
        "### Best on this plot, let's use the three best features, and make a new model\n",
        "# Sex, Ticket, Fare"
      ],
      "metadata": {
        "collapsed": false,
        "id": "6OHeoDrC3abv"
      }
    },
    {
      "cell_type": "code",
      "execution_count": null,
      "outputs": [
        {
          "data": {
            "text/plain": "0.8379888268156425"
          },
          "execution_count": 136,
          "metadata": {},
          "output_type": "execute_result"
        }
      ],
      "source": [
        "_ = model.fit(X_train[best_features], y_train)\n",
        "model.score(X_test[best_features], y_test)"
      ],
      "metadata": {
        "ExecuteTime": {
          "end_time": "2023-06-05T23:11:25.620933Z",
          "start_time": "2023-06-05T23:11:25.437649Z"
        },
        "id": "R9jVcKpY3abw",
        "outputId": "cf4bd11d-5c18-4e12-9dea-e7f4d338ef13"
      }
    }
  ],
  "metadata": {
    "kernelspec": {
      "display_name": "Python 3",
      "language": "python",
      "name": "python3"
    },
    "language_info": {
      "codemirror_mode": {
        "name": "ipython",
        "version": 2
      },
      "file_extension": ".py",
      "mimetype": "text/x-python",
      "name": "python",
      "nbconvert_exporter": "python",
      "pygments_lexer": "ipython2",
      "version": "2.7.6"
    },
    "colab": {
      "provenance": []
    }
  },
  "nbformat": 4,
  "nbformat_minor": 0
}